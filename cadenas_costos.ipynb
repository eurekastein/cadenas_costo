{
 "cells": [
  {
   "cell_type": "markdown",
   "metadata": {},
   "source": [
    "## Cálculo de costos de transporte para cadenas productivas genéricas "
   ]
  },
  {
   "cell_type": "markdown",
   "metadata": {},
   "source": [
    "### Suposiciones\n",
    "- Todas las etapas tienen un identificador único que se llama id\n",
    "- La red es fija y la tabla se llama red\n",
    "- La tabla de vértices se llama red_vertices_pgr\n",
    "- tiene una columna que se llama costo\n",
    "- tiene campos source y target\n",
    "- todas las columnas de geometría se llaman geom"
   ]
  },
  {
   "cell_type": "markdown",
   "metadata": {},
   "source": [
    "Primero todos los imports"
   ]
  },
  {
   "cell_type": "code",
   "execution_count": 82,
   "metadata": {},
   "outputs": [],
   "source": [
    "import psycopg2\n",
    "from sqlalchemy import create_engine\n",
    "import pandas as pd\n",
    "from functools import reduce\n",
    "import geopandas as gpd\n",
    "import numpy as np\n",
    "import matplotlib.pyplot as plt\n",
    "import rasterio\n",
    "from rasterio.transform import from_origin\n",
    "import io\n",
    "from subprocess import call"
   ]
  },
  {
   "cell_type": "markdown",
   "metadata": {},
   "source": [
    "### Parámetros de la conexión\n",
    "Define variables para hacer la conexión a la base de datos "
   ]
  },
  {
   "cell_type": "code",
   "execution_count": 83,
   "metadata": {},
   "outputs": [],
   "source": [
    "db = 'cadenas'\n",
    "usr = 'postgres' \n",
    "psw = 'postgres' \n",
    "host = '192.168.18.22'"
   ]
  },
  {
   "cell_type": "code",
   "execution_count": 84,
   "metadata": {},
   "outputs": [],
   "source": [
    "con = psycopg2.connect(database= db, user=usr, password=psw, host=host)\n",
    "engine = create_engine('postgresql://{}:{}@{}:5432/{}'.format(usr,psw,host,db))"
   ]
  },
  {
   "cell_type": "markdown",
   "metadata": {},
   "source": [
    "### Etapas de la cadena\n",
    "Variable con los nombre de las tablas de etapas."
   ]
  },
  {
   "cell_type": "code",
   "execution_count": 85,
   "metadata": {},
   "outputs": [],
   "source": [
    "etapas = ['etapa1', 'etapa2', 'etapa3', 'etapa4' ]"
   ]
  },
  {
   "cell_type": "markdown",
   "metadata": {},
   "source": [
    "### Relaciones entre nodos y etapas\n",
    "\n",
    "Asignar a cada punto de cada etapa el nodo más cercano de la red. Se crean las tablas con las relaciones:`etapa_i_node`, cada tabla tiene dos columnas, el id de la tabla de etapas y el id de la tabla de nodos.\n"
   ]
  },
  {
   "cell_type": "code",
   "execution_count": 86,
   "metadata": {},
   "outputs": [],
   "source": [
    "def node_relations(table, engine, connection):\n",
    "    \"\"\"Toma una tabla de puntos y le agrega una columna con el id del\n",
    "       nodo más cercano de la red.\n",
    "       Elimina la tabla de relaciones en caso de que exista.\n",
    "       Regresa el dataframe con la relación.\n",
    "    \"\"\"\n",
    "    drop_qry = \"\"\"drop table if exists %(tabla)s_node\"\"\" % {\"tabla\": table}\n",
    "    curs = connection.cursor()\n",
    "    curs.execute(drop_qry)\n",
    "    connection.commit()\n",
    "    sql = \"\"\"\n",
    "            select f.id as id_%(tabla)s, (\n",
    "              SELECT n.id\n",
    "              FROM red_vertices_pgr As n\n",
    "              ORDER BY f.geom <-> n.geom LIMIT 1\n",
    "            )as closest_node\n",
    "            from %(tabla)s f\n",
    "          \"\"\" % {\"tabla\": table}\n",
    "    try:\n",
    "        df = pd.read_sql(sql, engine)\n",
    "    except ValueError as e:\n",
    "        print(e)\n",
    "    try:\n",
    "        df.to_sql(table + '_node', engine)\n",
    "    except ValueError as e:\n",
    "        print(e)\n",
    "    return df"
   ]
  },
  {
   "cell_type": "markdown",
   "metadata": {},
   "source": [
    "Crea una lista de tablas, con los identificadores del nodo más cercano y el id de la tabla original. \n",
    "NOTA: estas tablas NO TIENEN GEOMETRIAS"
   ]
  },
  {
   "cell_type": "code",
   "execution_count": 87,
   "metadata": {},
   "outputs": [],
   "source": [
    "node_relations_list = []\n",
    "for etapa in etapas:\n",
    "    node_relations_list.append(node_relations(etapa, engine, con))"
   ]
  },
  {
   "cell_type": "code",
   "execution_count": 7,
   "metadata": {},
   "outputs": [
    {
     "data": {
      "text/html": [
       "<div>\n",
       "<style scoped>\n",
       "    .dataframe tbody tr th:only-of-type {\n",
       "        vertical-align: middle;\n",
       "    }\n",
       "\n",
       "    .dataframe tbody tr th {\n",
       "        vertical-align: top;\n",
       "    }\n",
       "\n",
       "    .dataframe thead th {\n",
       "        text-align: right;\n",
       "    }\n",
       "</style>\n",
       "<table border=\"1\" class=\"dataframe\">\n",
       "  <thead>\n",
       "    <tr style=\"text-align: right;\">\n",
       "      <th></th>\n",
       "      <th>id_etapa4</th>\n",
       "      <th>closest_node</th>\n",
       "    </tr>\n",
       "  </thead>\n",
       "  <tbody>\n",
       "    <tr>\n",
       "      <th>0</th>\n",
       "      <td>1</td>\n",
       "      <td>6156</td>\n",
       "    </tr>\n",
       "    <tr>\n",
       "      <th>1</th>\n",
       "      <td>2</td>\n",
       "      <td>1626</td>\n",
       "    </tr>\n",
       "    <tr>\n",
       "      <th>2</th>\n",
       "      <td>3</td>\n",
       "      <td>2827</td>\n",
       "    </tr>\n",
       "    <tr>\n",
       "      <th>3</th>\n",
       "      <td>4</td>\n",
       "      <td>5319</td>\n",
       "    </tr>\n",
       "    <tr>\n",
       "      <th>4</th>\n",
       "      <td>5</td>\n",
       "      <td>13025</td>\n",
       "    </tr>\n",
       "  </tbody>\n",
       "</table>\n",
       "</div>"
      ],
      "text/plain": [
       "   id_etapa4  closest_node\n",
       "0          1          6156\n",
       "1          2          1626\n",
       "2          3          2827\n",
       "3          4          5319\n",
       "4          5         13025"
      ]
     },
     "execution_count": 7,
     "metadata": {},
     "output_type": "execute_result"
    }
   ],
   "source": [
    "node_relations_list[-1].head()"
   ]
  },
  {
   "cell_type": "markdown",
   "metadata": {},
   "source": [
    "Convierte cada tabla en GeoDataFrame y la agrega a la base de datos"
   ]
  },
  {
   "cell_type": "code",
   "execution_count": 88,
   "metadata": {},
   "outputs": [],
   "source": [
    "etapas_gdfs = []\n",
    "for etapa in etapas:\n",
    "    sql = \"\"\"select a.id, a.geom, b.closest_node\n",
    "             from %(etapa)s a\n",
    "             join %(etapa)s_node b\n",
    "             on a.id = b.id_%(etapa)s\"\"\" % {\"etapa\":etapa}\n",
    "    etapas_gdfs.append(gpd.GeoDataFrame.from_postgis(sql, con, geom_col='geom'))"
   ]
  },
  {
   "cell_type": "code",
   "execution_count": 89,
   "metadata": {},
   "outputs": [
    {
     "data": {
      "text/html": [
       "<div>\n",
       "<style scoped>\n",
       "    .dataframe tbody tr th:only-of-type {\n",
       "        vertical-align: middle;\n",
       "    }\n",
       "\n",
       "    .dataframe tbody tr th {\n",
       "        vertical-align: top;\n",
       "    }\n",
       "\n",
       "    .dataframe thead th {\n",
       "        text-align: right;\n",
       "    }\n",
       "</style>\n",
       "<table border=\"1\" class=\"dataframe\">\n",
       "  <thead>\n",
       "    <tr style=\"text-align: right;\">\n",
       "      <th></th>\n",
       "      <th>id</th>\n",
       "      <th>geom</th>\n",
       "      <th>closest_node</th>\n",
       "    </tr>\n",
       "  </thead>\n",
       "  <tbody>\n",
       "    <tr>\n",
       "      <th>0</th>\n",
       "      <td>1737</td>\n",
       "      <td>POINT (645736.3108251573 1808481.380637101)</td>\n",
       "      <td>16385</td>\n",
       "    </tr>\n",
       "    <tr>\n",
       "      <th>1</th>\n",
       "      <td>1</td>\n",
       "      <td>POINT (520212.1233636757 1896539.235540587)</td>\n",
       "      <td>9104</td>\n",
       "    </tr>\n",
       "    <tr>\n",
       "      <th>2</th>\n",
       "      <td>2</td>\n",
       "      <td>POINT (551019.6914652064 1860672.211684213)</td>\n",
       "      <td>7228</td>\n",
       "    </tr>\n",
       "    <tr>\n",
       "      <th>3</th>\n",
       "      <td>3</td>\n",
       "      <td>POINT (587381.6952086436 1652313.728707811)</td>\n",
       "      <td>19701</td>\n",
       "    </tr>\n",
       "    <tr>\n",
       "      <th>4</th>\n",
       "      <td>4</td>\n",
       "      <td>POINT (552043.9602639768 1892579.33194623)</td>\n",
       "      <td>24875</td>\n",
       "    </tr>\n",
       "  </tbody>\n",
       "</table>\n",
       "</div>"
      ],
      "text/plain": [
       "     id                                         geom  closest_node\n",
       "0  1737  POINT (645736.3108251573 1808481.380637101)         16385\n",
       "1     1  POINT (520212.1233636757 1896539.235540587)          9104\n",
       "2     2  POINT (551019.6914652064 1860672.211684213)          7228\n",
       "3     3  POINT (587381.6952086436 1652313.728707811)         19701\n",
       "4     4   POINT (552043.9602639768 1892579.33194623)         24875"
      ]
     },
     "execution_count": 89,
     "metadata": {},
     "output_type": "execute_result"
    }
   ],
   "source": [
    "etapas_gdfs[0].head()"
   ]
  },
  {
   "cell_type": "markdown",
   "metadata": {},
   "source": [
    "### Costos por etapa\n",
    "\n",
    "La función stage_cost calcula el costo entre etapas sucesivas, para ello las tablas deben ir ordenadas \n",
    "dentro de esta función el usurio va a tener la posibilidad de seleccionar distintos valores asignados al costo, como: velocidad, tiempo, tipo de camino (coeficiente), valor de pendiente en grados y longitud. "
   ]
  },
  {
   "cell_type": "code",
   "execution_count": 8,
   "metadata": {},
   "outputs": [],
   "source": [
    "def stage_cost(source_table, target_table, cost_column):\n",
    "    params = {'source': source_table, 'target': target_table, 'cost': cost_column }\n",
    "    qry_str = \"\"\"SELECT DISTINCT ON (start_vid)\n",
    "                 start_vid as id_%(source)s, end_vid as id_%(target)s, agg_cost as costo_%(source)s_%(target)s\n",
    "          FROM   (SELECT * FROM pgr_dijkstraCost(\n",
    "              'select id, source, target, %(cost)s as cost from red',\n",
    "              array(select distinct(s.closest_node) from (select e.*, r.closest_node\n",
    "                                                        from %(source)s e\n",
    "                                                        join %(source)s_node r\n",
    "                                                        on e.id = r.id_%(source)s::int) as s),\n",
    "              array(select distinct(t.closest_node) from (select e.*, r.closest_node\n",
    "                                                        from %(target)s e\n",
    "                                                        join %(target)s_node r\n",
    "                                                        on e.id = r.id_%(target)s::int) as t),\n",
    "                 directed:=false)\n",
    "          ) as sub\n",
    "          ORDER  BY start_vid, agg_cost asc\"\"\" % params\n",
    "    try:\n",
    "        df = pd.read_sql(qry_str, engine)\n",
    "    except ValueError as e:\n",
    "        print(e)\n",
    "    return df"
   ]
  },
  {
   "cell_type": "markdown",
   "metadata": {},
   "source": [
    "Para calcular la distancia entre dos etapas hacemos:"
   ]
  },
  {
   "cell_type": "code",
   "execution_count": 40,
   "metadata": {},
   "outputs": [
    {
     "data": {
      "text/html": [
       "<div>\n",
       "<style scoped>\n",
       "    .dataframe tbody tr th:only-of-type {\n",
       "        vertical-align: middle;\n",
       "    }\n",
       "\n",
       "    .dataframe tbody tr th {\n",
       "        vertical-align: top;\n",
       "    }\n",
       "\n",
       "    .dataframe thead th {\n",
       "        text-align: right;\n",
       "    }\n",
       "</style>\n",
       "<table border=\"1\" class=\"dataframe\">\n",
       "  <thead>\n",
       "    <tr style=\"text-align: right;\">\n",
       "      <th></th>\n",
       "      <th>id_etapa1</th>\n",
       "      <th>id_etapa2</th>\n",
       "      <th>costo_etapa1_etapa2</th>\n",
       "    </tr>\n",
       "  </thead>\n",
       "  <tbody>\n",
       "    <tr>\n",
       "      <th>0</th>\n",
       "      <td>412</td>\n",
       "      <td>1851</td>\n",
       "      <td>268660.672500</td>\n",
       "    </tr>\n",
       "    <tr>\n",
       "      <th>1</th>\n",
       "      <td>459</td>\n",
       "      <td>1851</td>\n",
       "      <td>223833.071148</td>\n",
       "    </tr>\n",
       "    <tr>\n",
       "      <th>2</th>\n",
       "      <td>467</td>\n",
       "      <td>1851</td>\n",
       "      <td>233672.559784</td>\n",
       "    </tr>\n",
       "    <tr>\n",
       "      <th>3</th>\n",
       "      <td>638</td>\n",
       "      <td>11230</td>\n",
       "      <td>100905.641581</td>\n",
       "    </tr>\n",
       "    <tr>\n",
       "      <th>4</th>\n",
       "      <td>639</td>\n",
       "      <td>11230</td>\n",
       "      <td>105890.189821</td>\n",
       "    </tr>\n",
       "    <tr>\n",
       "      <th>5</th>\n",
       "      <td>714</td>\n",
       "      <td>1851</td>\n",
       "      <td>118419.029160</td>\n",
       "    </tr>\n",
       "    <tr>\n",
       "      <th>6</th>\n",
       "      <td>808</td>\n",
       "      <td>1851</td>\n",
       "      <td>32954.196776</td>\n",
       "    </tr>\n",
       "    <tr>\n",
       "      <th>7</th>\n",
       "      <td>809</td>\n",
       "      <td>1851</td>\n",
       "      <td>36366.841508</td>\n",
       "    </tr>\n",
       "    <tr>\n",
       "      <th>8</th>\n",
       "      <td>888</td>\n",
       "      <td>6662</td>\n",
       "      <td>74206.029518</td>\n",
       "    </tr>\n",
       "    <tr>\n",
       "      <th>9</th>\n",
       "      <td>889</td>\n",
       "      <td>6662</td>\n",
       "      <td>70608.639157</td>\n",
       "    </tr>\n",
       "  </tbody>\n",
       "</table>\n",
       "</div>"
      ],
      "text/plain": [
       "   id_etapa1  id_etapa2  costo_etapa1_etapa2\n",
       "0        412       1851        268660.672500\n",
       "1        459       1851        223833.071148\n",
       "2        467       1851        233672.559784\n",
       "3        638      11230        100905.641581\n",
       "4        639      11230        105890.189821\n",
       "5        714       1851        118419.029160\n",
       "6        808       1851         32954.196776\n",
       "7        809       1851         36366.841508\n",
       "8        888       6662         74206.029518\n",
       "9        889       6662         70608.639157"
      ]
     },
     "execution_count": 40,
     "metadata": {},
     "output_type": "execute_result"
    }
   ],
   "source": [
    "d0 = stage_cost(\"etapa1\", \"etapa2\", \"costo\")\n",
    "d0.head(10)"
   ]
  },
  {
   "cell_type": "markdown",
   "metadata": {},
   "source": [
    "Y para calcular todas las distancias:"
   ]
  },
  {
   "cell_type": "code",
   "execution_count": 45,
   "metadata": {},
   "outputs": [],
   "source": [
    "distancias = []\n",
    "for i, etapa in enumerate(etapas): \n",
    "    if i < len(etapas)-1:\n",
    "        stage = stage_cost(etapa,etapas[i+1], \"costo\")\n",
    "        cost_col = list(stage.columns)[-1]\n",
    "        stage.columns = ['start_' + str(i), 'end_' + str(i), cost_col]\n",
    "        stage.to_sql('dist_' + etapa, engine, index=False, if_exists='replace')\n",
    "        distancias.append(stage)"
   ]
  },
  {
   "cell_type": "markdown",
   "metadata": {},
   "source": [
    "Al calcular las distancias obtenemos las columnas start_i, end_i, costo_etapa(origen)_etapa(destino)\n",
    "donde: \n",
    "start_i = Tabla de origen\n",
    "end_i = Tabla destino \n",
    "costo_etapa(origen)_etapa(destino) = es el valor asignado al costo acumulado entre etapas "
   ]
  },
  {
   "cell_type": "code",
   "execution_count": 11,
   "metadata": {},
   "outputs": [
    {
     "data": {
      "text/html": [
       "<div>\n",
       "<style scoped>\n",
       "    .dataframe tbody tr th:only-of-type {\n",
       "        vertical-align: middle;\n",
       "    }\n",
       "\n",
       "    .dataframe tbody tr th {\n",
       "        vertical-align: top;\n",
       "    }\n",
       "\n",
       "    .dataframe thead th {\n",
       "        text-align: right;\n",
       "    }\n",
       "</style>\n",
       "<table border=\"1\" class=\"dataframe\">\n",
       "  <thead>\n",
       "    <tr style=\"text-align: right;\">\n",
       "      <th></th>\n",
       "      <th>start_0</th>\n",
       "      <th>end_0</th>\n",
       "      <th>costo_etapa1_etapa2</th>\n",
       "    </tr>\n",
       "  </thead>\n",
       "  <tbody>\n",
       "    <tr>\n",
       "      <th>0</th>\n",
       "      <td>412</td>\n",
       "      <td>1851</td>\n",
       "      <td>268660.672500</td>\n",
       "    </tr>\n",
       "    <tr>\n",
       "      <th>1</th>\n",
       "      <td>459</td>\n",
       "      <td>1851</td>\n",
       "      <td>223833.071148</td>\n",
       "    </tr>\n",
       "    <tr>\n",
       "      <th>2</th>\n",
       "      <td>467</td>\n",
       "      <td>1851</td>\n",
       "      <td>233672.559784</td>\n",
       "    </tr>\n",
       "    <tr>\n",
       "      <th>3</th>\n",
       "      <td>638</td>\n",
       "      <td>11230</td>\n",
       "      <td>100905.641581</td>\n",
       "    </tr>\n",
       "    <tr>\n",
       "      <th>4</th>\n",
       "      <td>639</td>\n",
       "      <td>11230</td>\n",
       "      <td>105890.189821</td>\n",
       "    </tr>\n",
       "  </tbody>\n",
       "</table>\n",
       "</div>"
      ],
      "text/plain": [
       "   start_0  end_0  costo_etapa1_etapa2\n",
       "0      412   1851        268660.672500\n",
       "1      459   1851        223833.071148\n",
       "2      467   1851        233672.559784\n",
       "3      638  11230        100905.641581\n",
       "4      639  11230        105890.189821"
      ]
     },
     "execution_count": 11,
     "metadata": {},
     "output_type": "execute_result"
    }
   ],
   "source": [
    "distancias[0].head()"
   ]
  },
  {
   "cell_type": "code",
   "execution_count": 12,
   "metadata": {},
   "outputs": [
    {
     "data": {
      "text/html": [
       "<div>\n",
       "<style scoped>\n",
       "    .dataframe tbody tr th:only-of-type {\n",
       "        vertical-align: middle;\n",
       "    }\n",
       "\n",
       "    .dataframe tbody tr th {\n",
       "        vertical-align: top;\n",
       "    }\n",
       "\n",
       "    .dataframe thead th {\n",
       "        text-align: right;\n",
       "    }\n",
       "</style>\n",
       "<table border=\"1\" class=\"dataframe\">\n",
       "  <thead>\n",
       "    <tr style=\"text-align: right;\">\n",
       "      <th></th>\n",
       "      <th>start_1</th>\n",
       "      <th>end_1</th>\n",
       "      <th>costo_etapa2_etapa3</th>\n",
       "    </tr>\n",
       "  </thead>\n",
       "  <tbody>\n",
       "    <tr>\n",
       "      <th>0</th>\n",
       "      <td>1851</td>\n",
       "      <td>1626</td>\n",
       "      <td>14710.325903</td>\n",
       "    </tr>\n",
       "    <tr>\n",
       "      <th>1</th>\n",
       "      <td>4365</td>\n",
       "      <td>2827</td>\n",
       "      <td>5756.321023</td>\n",
       "    </tr>\n",
       "    <tr>\n",
       "      <th>2</th>\n",
       "      <td>4664</td>\n",
       "      <td>4252</td>\n",
       "      <td>94517.114344</td>\n",
       "    </tr>\n",
       "    <tr>\n",
       "      <th>3</th>\n",
       "      <td>5092</td>\n",
       "      <td>4252</td>\n",
       "      <td>13204.104910</td>\n",
       "    </tr>\n",
       "    <tr>\n",
       "      <th>4</th>\n",
       "      <td>5419</td>\n",
       "      <td>8350</td>\n",
       "      <td>11464.748789</td>\n",
       "    </tr>\n",
       "  </tbody>\n",
       "</table>\n",
       "</div>"
      ],
      "text/plain": [
       "   start_1  end_1  costo_etapa2_etapa3\n",
       "0     1851   1626         14710.325903\n",
       "1     4365   2827          5756.321023\n",
       "2     4664   4252         94517.114344\n",
       "3     5092   4252         13204.104910\n",
       "4     5419   8350         11464.748789"
      ]
     },
     "execution_count": 12,
     "metadata": {},
     "output_type": "execute_result"
    }
   ],
   "source": [
    "distancias[1].head()"
   ]
  },
  {
   "cell_type": "code",
   "execution_count": 13,
   "metadata": {},
   "outputs": [
    {
     "data": {
      "text/html": [
       "<div>\n",
       "<style scoped>\n",
       "    .dataframe tbody tr th:only-of-type {\n",
       "        vertical-align: middle;\n",
       "    }\n",
       "\n",
       "    .dataframe tbody tr th {\n",
       "        vertical-align: top;\n",
       "    }\n",
       "\n",
       "    .dataframe thead th {\n",
       "        text-align: right;\n",
       "    }\n",
       "</style>\n",
       "<table border=\"1\" class=\"dataframe\">\n",
       "  <thead>\n",
       "    <tr style=\"text-align: right;\">\n",
       "      <th></th>\n",
       "      <th>start_2</th>\n",
       "      <th>end_2</th>\n",
       "      <th>costo_etapa3_etapa4</th>\n",
       "    </tr>\n",
       "  </thead>\n",
       "  <tbody>\n",
       "    <tr>\n",
       "      <th>0</th>\n",
       "      <td>1506</td>\n",
       "      <td>2827</td>\n",
       "      <td>3669.320367</td>\n",
       "    </tr>\n",
       "    <tr>\n",
       "      <th>1</th>\n",
       "      <td>1626</td>\n",
       "      <td>5319</td>\n",
       "      <td>469.458292</td>\n",
       "    </tr>\n",
       "    <tr>\n",
       "      <th>2</th>\n",
       "      <td>2289</td>\n",
       "      <td>8350</td>\n",
       "      <td>10649.014814</td>\n",
       "    </tr>\n",
       "    <tr>\n",
       "      <th>3</th>\n",
       "      <td>2827</td>\n",
       "      <td>1506</td>\n",
       "      <td>3669.320367</td>\n",
       "    </tr>\n",
       "    <tr>\n",
       "      <th>4</th>\n",
       "      <td>4252</td>\n",
       "      <td>1506</td>\n",
       "      <td>53383.568474</td>\n",
       "    </tr>\n",
       "  </tbody>\n",
       "</table>\n",
       "</div>"
      ],
      "text/plain": [
       "   start_2  end_2  costo_etapa3_etapa4\n",
       "0     1506   2827          3669.320367\n",
       "1     1626   5319           469.458292\n",
       "2     2289   8350         10649.014814\n",
       "3     2827   1506          3669.320367\n",
       "4     4252   1506         53383.568474"
      ]
     },
     "execution_count": 13,
     "metadata": {},
     "output_type": "execute_result"
    }
   ],
   "source": [
    "distancias[2].head()"
   ]
  },
  {
   "cell_type": "markdown",
   "metadata": {},
   "source": [
    "Para poder calcular los rasters de costo, es necesario unir las tablas de costos por etapa y agregarlas a una sola tabla que tenga el tamaño de la primer etapa1. "
   ]
  },
  {
   "cell_type": "code",
   "execution_count": 92,
   "metadata": {},
   "outputs": [
    {
     "name": "stdout",
     "output_type": "stream",
     "text": [
      "0\n",
      "['start_0', 'end_0', 'costo_etapa1_etapa2', 'start_1', 'end_1', 'costo_etapa2_etapa3']\n",
      "1\n",
      "['start_0', 'end_0', 'costo_etapa1_etapa2', 'start_1', 'end_1', 'costo_etapa2_etapa3', 'start_2', 'end_2', 'costo_etapa3_etapa4']\n",
      "2\n"
     ]
    }
   ],
   "source": [
    "#c = pd.merge(distancias[0], distancias[1], left_on='end_0', right_on='start_1')\n",
    "#d = pd.merge(c, distancias[2], left_on='end_1', right_on='start_2')\n",
    "#d.head()\n",
    "for i, distancia in enumerate(distancias):\n",
    "    print(i)\n",
    "    if i == 0:\n",
    "        costos = pd.merge(distancia, distancias[1], left_on='end_0', right_on='start_1')\n",
    "        print(list(costos.columns))\n",
    "        \n",
    "    elif i < len(distancias) - 1:\n",
    "        costos = pd.merge(costos, distancias[i+1], left_on='end_' + str(i), right_on='start_' + str(i+1))\n",
    "        print(list(costos.columns))"
   ]
  },
  {
   "cell_type": "code",
   "execution_count": 94,
   "metadata": {},
   "outputs": [
    {
     "data": {
      "text/plain": [
       "1674"
      ]
     },
     "execution_count": 94,
     "metadata": {},
     "output_type": "execute_result"
    }
   ],
   "source": [
    "costos.head()\n",
    "#len(costos)"
   ]
  },
  {
   "cell_type": "markdown",
   "metadata": {},
   "source": [
    "Posteriormente se calcula la suma acumulada de costos y se conserva el id de inicio de la etapa1: \n",
    "   \n",
    "   NOTA: Esta tabla NO TIENE GEOMETRÍAS\n",
    "\n",
    "    costo_etapa1_etapa2 = raster1 \n",
    "    costo_etapa1_etapa2 + costo_etapa2_etapa3 = raster2\n",
    "    costo_etapa2_etapa3 + costo_etapa3_etapa4 = raster3\n",
    "    "
   ]
  },
  {
   "cell_type": "code",
   "execution_count": 27,
   "metadata": {},
   "outputs": [],
   "source": [
    "costos_acumulados = costos.iloc[:, costos.columns.str.contains('costo_')].cumsum(axis=1)\n",
    "costos_acumulados = costos_acumulados.merge(costos.iloc[:,[0]], left_index=True, right_index=True)"
   ]
  },
  {
   "cell_type": "code",
   "execution_count": 28,
   "metadata": {},
   "outputs": [
    {
     "data": {
      "text/html": [
       "<div>\n",
       "<style scoped>\n",
       "    .dataframe tbody tr th:only-of-type {\n",
       "        vertical-align: middle;\n",
       "    }\n",
       "\n",
       "    .dataframe tbody tr th {\n",
       "        vertical-align: top;\n",
       "    }\n",
       "\n",
       "    .dataframe thead th {\n",
       "        text-align: right;\n",
       "    }\n",
       "</style>\n",
       "<table border=\"1\" class=\"dataframe\">\n",
       "  <thead>\n",
       "    <tr style=\"text-align: right;\">\n",
       "      <th></th>\n",
       "      <th>costo_etapa1_etapa2</th>\n",
       "      <th>costo_etapa2_etapa3</th>\n",
       "      <th>costo_etapa3_etapa4</th>\n",
       "      <th>start_0</th>\n",
       "    </tr>\n",
       "  </thead>\n",
       "  <tbody>\n",
       "    <tr>\n",
       "      <th>0</th>\n",
       "      <td>268660.672500</td>\n",
       "      <td>283370.998404</td>\n",
       "      <td>283840.456696</td>\n",
       "      <td>412</td>\n",
       "    </tr>\n",
       "    <tr>\n",
       "      <th>1</th>\n",
       "      <td>223833.071148</td>\n",
       "      <td>238543.397052</td>\n",
       "      <td>239012.855344</td>\n",
       "      <td>459</td>\n",
       "    </tr>\n",
       "    <tr>\n",
       "      <th>2</th>\n",
       "      <td>233672.559784</td>\n",
       "      <td>248382.885688</td>\n",
       "      <td>248852.343980</td>\n",
       "      <td>467</td>\n",
       "    </tr>\n",
       "    <tr>\n",
       "      <th>3</th>\n",
       "      <td>118419.029160</td>\n",
       "      <td>133129.355063</td>\n",
       "      <td>133598.813356</td>\n",
       "      <td>714</td>\n",
       "    </tr>\n",
       "    <tr>\n",
       "      <th>4</th>\n",
       "      <td>32954.196776</td>\n",
       "      <td>47664.522679</td>\n",
       "      <td>48133.980972</td>\n",
       "      <td>808</td>\n",
       "    </tr>\n",
       "  </tbody>\n",
       "</table>\n",
       "</div>"
      ],
      "text/plain": [
       "   costo_etapa1_etapa2  costo_etapa2_etapa3  costo_etapa3_etapa4  start_0\n",
       "0        268660.672500        283370.998404        283840.456696      412\n",
       "1        223833.071148        238543.397052        239012.855344      459\n",
       "2        233672.559784        248382.885688        248852.343980      467\n",
       "3        118419.029160        133129.355063        133598.813356      714\n",
       "4         32954.196776         47664.522679         48133.980972      808"
      ]
     },
     "execution_count": 28,
     "metadata": {},
     "output_type": "execute_result"
    }
   ],
   "source": [
    "costos_acumulados.head()"
   ]
  },
  {
   "cell_type": "markdown",
   "metadata": {},
   "source": [
    "Para poder realizar la interpolación con GDAL, se asignan las geometrías de la tabla de la etapa1 \n",
    "con el identificador start_0 y se seleccionan solo las columnas de interés"
   ]
  },
  {
   "cell_type": "code",
   "execution_count": 98,
   "metadata": {},
   "outputs": [
    {
     "data": {
      "text/html": [
       "<div>\n",
       "<style scoped>\n",
       "    .dataframe tbody tr th:only-of-type {\n",
       "        vertical-align: middle;\n",
       "    }\n",
       "\n",
       "    .dataframe tbody tr th {\n",
       "        vertical-align: top;\n",
       "    }\n",
       "\n",
       "    .dataframe thead th {\n",
       "        text-align: right;\n",
       "    }\n",
       "</style>\n",
       "<table border=\"1\" class=\"dataframe\">\n",
       "  <thead>\n",
       "    <tr style=\"text-align: right;\">\n",
       "      <th></th>\n",
       "      <th>id</th>\n",
       "      <th>geom</th>\n",
       "      <th>closest_node</th>\n",
       "      <th>id_x</th>\n",
       "      <th>geom_x</th>\n",
       "      <th>closest_node_x</th>\n",
       "      <th>id_y</th>\n",
       "      <th>geom_y</th>\n",
       "      <th>closest_node_y</th>\n",
       "      <th>costo_etapa1_etapa2</th>\n",
       "      <th>costo_etapa2_etapa3</th>\n",
       "      <th>costo_etapa3_etapa4</th>\n",
       "      <th>start_0</th>\n",
       "    </tr>\n",
       "  </thead>\n",
       "  <tbody>\n",
       "    <tr>\n",
       "      <th>0</th>\n",
       "      <td>1737</td>\n",
       "      <td>POINT (645736.3108251573 1808481.380637101)</td>\n",
       "      <td>16385</td>\n",
       "      <td>1737</td>\n",
       "      <td>POINT (645736.3108251573 1808481.380637101)</td>\n",
       "      <td>16385</td>\n",
       "      <td>1737</td>\n",
       "      <td>POINT (645736.3108251573 1808481.380637101)</td>\n",
       "      <td>16385</td>\n",
       "      <td>88197.560033</td>\n",
       "      <td>89420.205764</td>\n",
       "      <td>120628.937040</td>\n",
       "      <td>16385</td>\n",
       "    </tr>\n",
       "    <tr>\n",
       "      <th>1</th>\n",
       "      <td>2</td>\n",
       "      <td>POINT (551019.6914652064 1860672.211684213)</td>\n",
       "      <td>7228</td>\n",
       "      <td>2</td>\n",
       "      <td>POINT (551019.6914652064 1860672.211684213)</td>\n",
       "      <td>7228</td>\n",
       "      <td>2</td>\n",
       "      <td>POINT (551019.6914652064 1860672.211684213)</td>\n",
       "      <td>7228</td>\n",
       "      <td>43716.671817</td>\n",
       "      <td>56920.776727</td>\n",
       "      <td>110304.345201</td>\n",
       "      <td>7228</td>\n",
       "    </tr>\n",
       "    <tr>\n",
       "      <th>2</th>\n",
       "      <td>3</td>\n",
       "      <td>POINT (587381.6952086436 1652313.728707811)</td>\n",
       "      <td>19701</td>\n",
       "      <td>3</td>\n",
       "      <td>POINT (587381.6952086436 1652313.728707811)</td>\n",
       "      <td>19701</td>\n",
       "      <td>3</td>\n",
       "      <td>POINT (587381.6952086436 1652313.728707811)</td>\n",
       "      <td>19701</td>\n",
       "      <td>74410.673774</td>\n",
       "      <td>76565.455704</td>\n",
       "      <td>129014.945168</td>\n",
       "      <td>19701</td>\n",
       "    </tr>\n",
       "    <tr>\n",
       "      <th>3</th>\n",
       "      <td>3</td>\n",
       "      <td>POINT (587381.6952086436 1652313.728707811)</td>\n",
       "      <td>19701</td>\n",
       "      <td>3</td>\n",
       "      <td>POINT (587381.6952086436 1652313.728707811)</td>\n",
       "      <td>19701</td>\n",
       "      <td>555</td>\n",
       "      <td>POINT (587025.9778533678 1653023.050466779)</td>\n",
       "      <td>19701</td>\n",
       "      <td>74410.673774</td>\n",
       "      <td>76565.455704</td>\n",
       "      <td>129014.945168</td>\n",
       "      <td>19701</td>\n",
       "    </tr>\n",
       "    <tr>\n",
       "      <th>4</th>\n",
       "      <td>3</td>\n",
       "      <td>POINT (587381.6952086436 1652313.728707811)</td>\n",
       "      <td>19701</td>\n",
       "      <td>555</td>\n",
       "      <td>POINT (587025.9778533678 1653023.050466779)</td>\n",
       "      <td>19701</td>\n",
       "      <td>3</td>\n",
       "      <td>POINT (587381.6952086436 1652313.728707811)</td>\n",
       "      <td>19701</td>\n",
       "      <td>74410.673774</td>\n",
       "      <td>76565.455704</td>\n",
       "      <td>129014.945168</td>\n",
       "      <td>19701</td>\n",
       "    </tr>\n",
       "  </tbody>\n",
       "</table>\n",
       "</div>"
      ],
      "text/plain": [
       "     id                                         geom  closest_node  id_x  \\\n",
       "0  1737  POINT (645736.3108251573 1808481.380637101)         16385  1737   \n",
       "1     2  POINT (551019.6914652064 1860672.211684213)          7228     2   \n",
       "2     3  POINT (587381.6952086436 1652313.728707811)         19701     3   \n",
       "3     3  POINT (587381.6952086436 1652313.728707811)         19701     3   \n",
       "4     3  POINT (587381.6952086436 1652313.728707811)         19701   555   \n",
       "\n",
       "                                        geom_x  closest_node_x  id_y  \\\n",
       "0  POINT (645736.3108251573 1808481.380637101)           16385  1737   \n",
       "1  POINT (551019.6914652064 1860672.211684213)            7228     2   \n",
       "2  POINT (587381.6952086436 1652313.728707811)           19701     3   \n",
       "3  POINT (587381.6952086436 1652313.728707811)           19701   555   \n",
       "4  POINT (587025.9778533678 1653023.050466779)           19701     3   \n",
       "\n",
       "                                        geom_y  closest_node_y  \\\n",
       "0  POINT (645736.3108251573 1808481.380637101)           16385   \n",
       "1  POINT (551019.6914652064 1860672.211684213)            7228   \n",
       "2  POINT (587381.6952086436 1652313.728707811)           19701   \n",
       "3  POINT (587025.9778533678 1653023.050466779)           19701   \n",
       "4  POINT (587381.6952086436 1652313.728707811)           19701   \n",
       "\n",
       "   costo_etapa1_etapa2  costo_etapa2_etapa3  costo_etapa3_etapa4  start_0  \n",
       "0         88197.560033         89420.205764        120628.937040    16385  \n",
       "1         43716.671817         56920.776727        110304.345201     7228  \n",
       "2         74410.673774         76565.455704        129014.945168    19701  \n",
       "3         74410.673774         76565.455704        129014.945168    19701  \n",
       "4         74410.673774         76565.455704        129014.945168    19701  "
      ]
     },
     "execution_count": 98,
     "metadata": {},
     "output_type": "execute_result"
    }
   ],
   "source": [
    "costos_acumulados = etapas_gdfs[0].merge(costos_acumulados, left_on = 'closest_node', right_on = 'start_0')\n",
    "costos_acumulados.head()"
   ]
  },
  {
   "cell_type": "markdown",
   "metadata": {},
   "source": [
    "### Interpolación\n",
    "Calcula los rasters de costo acumulados por etapa, cada raster contiene información del costo de transporte desde la etapa1 hasta la etapa a la que pertenece el raster. \n",
    "\n",
    "NOTA: Es en esta parte donde se hacen las recomendaciones y a diferencia del codigo pasado no es necesario hacer restas entre ellos. "
   ]
  },
  {
   "cell_type": "code",
   "execution_count": 103,
   "metadata": {},
   "outputs": [
    {
     "name": "stdout",
     "output_type": "stream",
     "text": [
      "Si pude\n",
      "Si pude\n",
      "Si pude\n",
      "Si pude\n",
      "Si pude\n",
      "Si pude\n",
      "Si pude\n",
      "Si pude\n",
      "Si pude\n"
     ]
    },
    {
     "name": "stderr",
     "output_type": "stream",
     "text": [
      "/home/eurekastein/anaconda3/envs/cadenas/lib/python3.6/site-packages/geopandas/io/file.py:108: FionaDeprecationWarning: Use fiona.Env() instead.\n",
      "  with fiona.drivers():\n"
     ]
    },
    {
     "name": "stdout",
     "output_type": "stream",
     "text": [
      "Si pude\n"
     ]
    },
    {
     "name": "stderr",
     "output_type": "stream",
     "text": [
      "/home/eurekastein/anaconda3/envs/cadenas/lib/python3.6/site-packages/geopandas/io/file.py:108: FionaDeprecationWarning: Use fiona.Env() instead.\n",
      "  with fiona.drivers():\n"
     ]
    },
    {
     "name": "stdout",
     "output_type": "stream",
     "text": [
      "Si pude\n"
     ]
    },
    {
     "name": "stderr",
     "output_type": "stream",
     "text": [
      "/home/eurekastein/anaconda3/envs/cadenas/lib/python3.6/site-packages/geopandas/io/file.py:108: FionaDeprecationWarning: Use fiona.Env() instead.\n",
      "  with fiona.drivers():\n"
     ]
    },
    {
     "name": "stdout",
     "output_type": "stream",
     "text": [
      "Si pude\n",
      "Si pude\n"
     ]
    }
   ],
   "source": [
    "for columna in costos_acumulados:\n",
    "    if columna.startswith('costo_'):\n",
    "        write_me = costos_acumulados[['id', 'geom', columna]]\n",
    "        write_me.columns = ['id', 'geom', 'costo']\n",
    "        write_me.to_file(driver= 'ESRI Shapefile', filename= \"idw/\" + columna + '.shp')\n",
    "        comando = ['gdal_grid', '-zfield', 'costo', '-l', columna, '-a',\n",
    "           'invdist:power=2.0:smothing=0.0:radius1=0.0:radius2=0.0:angle=0.0:max_points=0:min_points=0:nodata=0.0',\n",
    "           '-of', 'GTiff', 'idw/'+ columna + '.shp', 'idw/'+ columna+'.tif']\n",
    "    try:\n",
    "        call(comando)\n",
    "        print('Si pude')\n",
    "    except:\n",
    "      print('La columna '+columna+' nostuvo')"
   ]
  },
  {
   "cell_type": "markdown",
   "metadata": {},
   "source": [
    "## Ahora los polígonos\n",
    "\n",
    "\n",
    "Se crean los poligonos para delimitar las zonas de influencias de cada etapa, siempre y cuando tenga más de tres puntos cerca\n"
   ]
  },
  {
   "cell_type": "code",
   "execution_count": 80,
   "metadata": {},
   "outputs": [
    {
     "ename": "DatabaseError",
     "evalue": "Execution failed on sql 'select e.id::int4, st_x (st_geometryn(e.geom,1)) as x, st_y  (st_geometryn(e.geom,1)) as y \n            from \n            (select c.geom, d.end_3 as id\n            from \n            (select a.geom, b.closest_node \n            from etapa4 a\n            join etapa4_node b\n            on a.id = b.id_etapa4) as c\n            join dist_etapa4 d\n            on c.closest_node = d.start_3) as e \n            where id=6156\n            ': no existe la relación «dist_etapa4»\nLINE 9:             join dist_etapa4 d\n                         ^\n",
     "output_type": "error",
     "traceback": [
      "\u001b[0;31m---------------------------------------------------------------------------\u001b[0m",
      "\u001b[0;31mProgrammingError\u001b[0m                          Traceback (most recent call last)",
      "\u001b[0;32m~/anaconda3/envs/cadenas/lib/python3.6/site-packages/pandas/io/sql.py\u001b[0m in \u001b[0;36mexecute\u001b[0;34m(self, *args, **kwargs)\u001b[0m\n\u001b[1;32m   1377\u001b[0m             \u001b[0;32melse\u001b[0m\u001b[0;34m:\u001b[0m\u001b[0;34m\u001b[0m\u001b[0m\n\u001b[0;32m-> 1378\u001b[0;31m                 \u001b[0mcur\u001b[0m\u001b[0;34m.\u001b[0m\u001b[0mexecute\u001b[0m\u001b[0;34m(\u001b[0m\u001b[0;34m*\u001b[0m\u001b[0margs\u001b[0m\u001b[0;34m)\u001b[0m\u001b[0;34m\u001b[0m\u001b[0m\n\u001b[0m\u001b[1;32m   1379\u001b[0m             \u001b[0;32mreturn\u001b[0m \u001b[0mcur\u001b[0m\u001b[0;34m\u001b[0m\u001b[0m\n",
      "\u001b[0;31mProgrammingError\u001b[0m: no existe la relación «dist_etapa4»\nLINE 9:             join dist_etapa4 d\n                         ^\n",
      "\nDuring handling of the above exception, another exception occurred:\n",
      "\u001b[0;31mDatabaseError\u001b[0m                             Traceback (most recent call last)",
      "\u001b[0;32m<ipython-input-80-62b3a9f1ea01>\u001b[0m in \u001b[0;36m<module>\u001b[0;34m()\u001b[0m\n\u001b[1;32m     21\u001b[0m             \u001b[0mwhere\u001b[0m \u001b[0mid\u001b[0m\u001b[0;34m=\u001b[0m\u001b[0;34m%\u001b[0m\u001b[0;34m(\u001b[0m\u001b[0mde_quien\u001b[0m\u001b[0;34m)\u001b[0m\u001b[0ms\u001b[0m\u001b[0;34m\u001b[0m\u001b[0m\n\u001b[1;32m     22\u001b[0m             \"\"\" % {'etapa':etapa, 'num_etapa':j+1, 'de_quien':id}\n\u001b[0;32m---> 23\u001b[0;31m         \u001b[0mpoint_gdf\u001b[0m \u001b[0;34m=\u001b[0m \u001b[0mpd\u001b[0m\u001b[0;34m.\u001b[0m\u001b[0mread_sql\u001b[0m\u001b[0;34m(\u001b[0m\u001b[0mpoint_sql\u001b[0m\u001b[0;34m,\u001b[0m \u001b[0mcon\u001b[0m\u001b[0;34m)\u001b[0m\u001b[0;34m\u001b[0m\u001b[0m\n\u001b[0m\u001b[1;32m     24\u001b[0m         \u001b[0;32mif\u001b[0m \u001b[0mpoint_gdf\u001b[0m\u001b[0;34m.\u001b[0m\u001b[0mshape\u001b[0m\u001b[0;34m[\u001b[0m\u001b[0;36m0\u001b[0m\u001b[0;34m]\u001b[0m \u001b[0;34m>\u001b[0m \u001b[0;36m2\u001b[0m\u001b[0;34m:\u001b[0m\u001b[0;34m\u001b[0m\u001b[0m\n\u001b[1;32m     25\u001b[0m             poly_sql = \"\"\"\n",
      "\u001b[0;32m~/anaconda3/envs/cadenas/lib/python3.6/site-packages/pandas/io/sql.py\u001b[0m in \u001b[0;36mread_sql\u001b[0;34m(sql, con, index_col, coerce_float, params, parse_dates, columns, chunksize)\u001b[0m\n\u001b[1;32m    379\u001b[0m             \u001b[0msql\u001b[0m\u001b[0;34m,\u001b[0m \u001b[0mindex_col\u001b[0m\u001b[0;34m=\u001b[0m\u001b[0mindex_col\u001b[0m\u001b[0;34m,\u001b[0m \u001b[0mparams\u001b[0m\u001b[0;34m=\u001b[0m\u001b[0mparams\u001b[0m\u001b[0;34m,\u001b[0m\u001b[0;34m\u001b[0m\u001b[0m\n\u001b[1;32m    380\u001b[0m             \u001b[0mcoerce_float\u001b[0m\u001b[0;34m=\u001b[0m\u001b[0mcoerce_float\u001b[0m\u001b[0;34m,\u001b[0m \u001b[0mparse_dates\u001b[0m\u001b[0;34m=\u001b[0m\u001b[0mparse_dates\u001b[0m\u001b[0;34m,\u001b[0m\u001b[0;34m\u001b[0m\u001b[0m\n\u001b[0;32m--> 381\u001b[0;31m             chunksize=chunksize)\n\u001b[0m\u001b[1;32m    382\u001b[0m \u001b[0;34m\u001b[0m\u001b[0m\n\u001b[1;32m    383\u001b[0m     \u001b[0;32mtry\u001b[0m\u001b[0;34m:\u001b[0m\u001b[0;34m\u001b[0m\u001b[0m\n",
      "\u001b[0;32m~/anaconda3/envs/cadenas/lib/python3.6/site-packages/pandas/io/sql.py\u001b[0m in \u001b[0;36mread_query\u001b[0;34m(self, sql, index_col, coerce_float, params, parse_dates, chunksize)\u001b[0m\n\u001b[1;32m   1411\u001b[0m \u001b[0;34m\u001b[0m\u001b[0m\n\u001b[1;32m   1412\u001b[0m         \u001b[0margs\u001b[0m \u001b[0;34m=\u001b[0m \u001b[0m_convert_params\u001b[0m\u001b[0;34m(\u001b[0m\u001b[0msql\u001b[0m\u001b[0;34m,\u001b[0m \u001b[0mparams\u001b[0m\u001b[0;34m)\u001b[0m\u001b[0;34m\u001b[0m\u001b[0m\n\u001b[0;32m-> 1413\u001b[0;31m         \u001b[0mcursor\u001b[0m \u001b[0;34m=\u001b[0m \u001b[0mself\u001b[0m\u001b[0;34m.\u001b[0m\u001b[0mexecute\u001b[0m\u001b[0;34m(\u001b[0m\u001b[0;34m*\u001b[0m\u001b[0margs\u001b[0m\u001b[0;34m)\u001b[0m\u001b[0;34m\u001b[0m\u001b[0m\n\u001b[0m\u001b[1;32m   1414\u001b[0m         \u001b[0mcolumns\u001b[0m \u001b[0;34m=\u001b[0m \u001b[0;34m[\u001b[0m\u001b[0mcol_desc\u001b[0m\u001b[0;34m[\u001b[0m\u001b[0;36m0\u001b[0m\u001b[0;34m]\u001b[0m \u001b[0;32mfor\u001b[0m \u001b[0mcol_desc\u001b[0m \u001b[0;32min\u001b[0m \u001b[0mcursor\u001b[0m\u001b[0;34m.\u001b[0m\u001b[0mdescription\u001b[0m\u001b[0;34m]\u001b[0m\u001b[0;34m\u001b[0m\u001b[0m\n\u001b[1;32m   1415\u001b[0m \u001b[0;34m\u001b[0m\u001b[0m\n",
      "\u001b[0;32m~/anaconda3/envs/cadenas/lib/python3.6/site-packages/pandas/io/sql.py\u001b[0m in \u001b[0;36mexecute\u001b[0;34m(self, *args, **kwargs)\u001b[0m\n\u001b[1;32m   1388\u001b[0m             ex = DatabaseError(\n\u001b[1;32m   1389\u001b[0m                 \"Execution failed on sql '%s': %s\" % (args[0], exc))\n\u001b[0;32m-> 1390\u001b[0;31m             \u001b[0mraise_with_traceback\u001b[0m\u001b[0;34m(\u001b[0m\u001b[0mex\u001b[0m\u001b[0;34m)\u001b[0m\u001b[0;34m\u001b[0m\u001b[0m\n\u001b[0m\u001b[1;32m   1391\u001b[0m \u001b[0;34m\u001b[0m\u001b[0m\n\u001b[1;32m   1392\u001b[0m     \u001b[0;34m@\u001b[0m\u001b[0mstaticmethod\u001b[0m\u001b[0;34m\u001b[0m\u001b[0m\n",
      "\u001b[0;32m~/anaconda3/envs/cadenas/lib/python3.6/site-packages/pandas/compat/__init__.py\u001b[0m in \u001b[0;36mraise_with_traceback\u001b[0;34m(exc, traceback)\u001b[0m\n\u001b[1;32m    402\u001b[0m         \u001b[0;32mif\u001b[0m \u001b[0mtraceback\u001b[0m \u001b[0;34m==\u001b[0m \u001b[0mEllipsis\u001b[0m\u001b[0;34m:\u001b[0m\u001b[0;34m\u001b[0m\u001b[0m\n\u001b[1;32m    403\u001b[0m             \u001b[0m_\u001b[0m\u001b[0;34m,\u001b[0m \u001b[0m_\u001b[0m\u001b[0;34m,\u001b[0m \u001b[0mtraceback\u001b[0m \u001b[0;34m=\u001b[0m \u001b[0msys\u001b[0m\u001b[0;34m.\u001b[0m\u001b[0mexc_info\u001b[0m\u001b[0;34m(\u001b[0m\u001b[0;34m)\u001b[0m\u001b[0;34m\u001b[0m\u001b[0m\n\u001b[0;32m--> 404\u001b[0;31m         \u001b[0;32mraise\u001b[0m \u001b[0mexc\u001b[0m\u001b[0;34m.\u001b[0m\u001b[0mwith_traceback\u001b[0m\u001b[0;34m(\u001b[0m\u001b[0mtraceback\u001b[0m\u001b[0;34m)\u001b[0m\u001b[0;34m\u001b[0m\u001b[0m\n\u001b[0m\u001b[1;32m    405\u001b[0m \u001b[0;32melse\u001b[0m\u001b[0;34m:\u001b[0m\u001b[0;34m\u001b[0m\u001b[0m\n\u001b[1;32m    406\u001b[0m     \u001b[0;31m# this version of raise is a syntax error in Python 3\u001b[0m\u001b[0;34m\u001b[0m\u001b[0;34m\u001b[0m\u001b[0m\n",
      "\u001b[0;32m~/anaconda3/envs/cadenas/lib/python3.6/site-packages/pandas/io/sql.py\u001b[0m in \u001b[0;36mexecute\u001b[0;34m(self, *args, **kwargs)\u001b[0m\n\u001b[1;32m   1376\u001b[0m                 \u001b[0mcur\u001b[0m\u001b[0;34m.\u001b[0m\u001b[0mexecute\u001b[0m\u001b[0;34m(\u001b[0m\u001b[0;34m*\u001b[0m\u001b[0margs\u001b[0m\u001b[0;34m,\u001b[0m \u001b[0;34m**\u001b[0m\u001b[0mkwargs\u001b[0m\u001b[0;34m)\u001b[0m\u001b[0;34m\u001b[0m\u001b[0m\n\u001b[1;32m   1377\u001b[0m             \u001b[0;32melse\u001b[0m\u001b[0;34m:\u001b[0m\u001b[0;34m\u001b[0m\u001b[0m\n\u001b[0;32m-> 1378\u001b[0;31m                 \u001b[0mcur\u001b[0m\u001b[0;34m.\u001b[0m\u001b[0mexecute\u001b[0m\u001b[0;34m(\u001b[0m\u001b[0;34m*\u001b[0m\u001b[0margs\u001b[0m\u001b[0;34m)\u001b[0m\u001b[0;34m\u001b[0m\u001b[0m\n\u001b[0m\u001b[1;32m   1379\u001b[0m             \u001b[0;32mreturn\u001b[0m \u001b[0mcur\u001b[0m\u001b[0;34m\u001b[0m\u001b[0m\n\u001b[1;32m   1380\u001b[0m         \u001b[0;32mexcept\u001b[0m \u001b[0mException\u001b[0m \u001b[0;32mas\u001b[0m \u001b[0mexc\u001b[0m\u001b[0;34m:\u001b[0m\u001b[0;34m\u001b[0m\u001b[0m\n",
      "\u001b[0;31mDatabaseError\u001b[0m: Execution failed on sql 'select e.id::int4, st_x (st_geometryn(e.geom,1)) as x, st_y  (st_geometryn(e.geom,1)) as y \n            from \n            (select c.geom, d.end_3 as id\n            from \n            (select a.geom, b.closest_node \n            from etapa4 a\n            join etapa4_node b\n            on a.id = b.id_etapa4) as c\n            join dist_etapa4 d\n            on c.closest_node = d.start_3) as e \n            where id=6156\n            ': no existe la relación «dist_etapa4»\nLINE 9:             join dist_etapa4 d\n                         ^\n"
     ]
    }
   ],
   "source": [
    "for j,(etapa, etapa_gdf) in enumerate(zip(etapas[1:],etapas_gdfs[1:])):\n",
    "    drop_qry = \"\"\"drop table if exists poligono_%(etapa)s\"\"\" % {'etapa':etapa}\n",
    "    curs = con.cursor()\n",
    "    curs.execute(drop_qry)\n",
    "    con.commit()        \n",
    "    create_sql = \"\"\"create table poligono_%(etapa)s (id_%(etapa)s bigint, \\\n",
    "                    geom geometry(Polygon,32615))\"\"\" % {'etapa':etapa}\n",
    "    curs.execute(create_sql)\n",
    "    con.commit()    \n",
    "    ids = etapa_gdf['closest_node'].unique()\n",
    "    for i, id in enumerate(ids):\n",
    "        point_sql = \"\"\"select e.id::int4, st_x (st_geometryn(e.geom,1)) as x, st_y  (st_geometryn(e.geom,1)) as y \n",
    "            from \n",
    "            (select c.geom, d.end_%(num_etapa)s as id\n",
    "            from \n",
    "            (select a.geom, b.closest_node \n",
    "            from %(etapa)s a\n",
    "            join %(etapa)s_node b\n",
    "            on a.id = b.id_%(etapa)s) as c\n",
    "            join dist_%(etapa)s d\n",
    "            on c.closest_node = d.start_%(num_etapa)s) as e \n",
    "            where id=%(de_quien)s\n",
    "            \"\"\" % {'etapa':etapa, 'num_etapa':j+1, 'de_quien':id}\n",
    "        point_gdf = pd.read_sql(point_sql, con)\n",
    "        if point_gdf.shape[0] > 2:\n",
    "            poly_sql = \"\"\"\n",
    "                insert into poligono_%(etapa)s\n",
    "                select sub.id, sub.geom\n",
    "                from\n",
    "                (select %(de_quien)s as id, * from st_setsrid(pgr_pointsAsPolygon('select e.id::int4, st_x (st_geometryn(e.geom,1)) as x, st_y  (st_geometryn(e.geom,1)) as y \n",
    "                from \n",
    "                (select c.geom, d.end_%(num_etapa)s as id\n",
    "                from \n",
    "                (select a.geom, b.closest_node \n",
    "                from %(etapa)s a\n",
    "                join %(etapa)s_node b\n",
    "                on a.id = b.id_%(etapa)s) as c\n",
    "                join dist_%(etapa)s d\n",
    "                on c.closest_node = d.start_%(num_etapa)s) as e \n",
    "                where id=%(de_quien)s'),32615)as geom)as sub \n",
    "            \"\"\" % {'etapa':etapa, 'num_etapa':j+1, 'de_quien':id}\n",
    "            curs.execute(poly_sql)\n",
    "            con.commit()\n",
    "        #print(poly_sql)\n",
    "        \n",
    "        "
   ]
  },
  {
   "cell_type": "code",
   "execution_count": 79,
   "metadata": {},
   "outputs": [],
   "source": [
    "con.close()\n",
    "con = psycopg2.connect(database= db, user=usr, password=psw, host=host)"
   ]
  }
 ],
 "metadata": {
  "kernelspec": {
   "display_name": "Python 3",
   "language": "python",
   "name": "python3"
  },
  "language_info": {
   "codemirror_mode": {
    "name": "ipython",
    "version": 3
   },
   "file_extension": ".py",
   "mimetype": "text/x-python",
   "name": "python",
   "nbconvert_exporter": "python",
   "pygments_lexer": "ipython3",
   "version": "3.6.6"
  }
 },
 "nbformat": 4,
 "nbformat_minor": 2
}
